{
 "cells": [
  {
   "cell_type": "markdown",
   "id": "c005ded8-c6e5-4540-a42b-955e4925ceff",
   "metadata": {},
   "source": [
    "# Advanced Workflow\n",
    "\n",
    "## AirFlow\n",
    "\n",
    "## Common Workflow Language\n",
    "\n",
    "\n",
    "## GPU\n",
    "\n",
    "https://xarray.dev/blog/gpu-pipeline\n",
    "\n",
    "https://developmentseed.org/blog/2024-03-19-combining-cloud-gpu-native/"
   ]
  }
 ],
 "metadata": {
  "kernelspec": {
   "display_name": "Python 3 (ipykernel)",
   "language": "python",
   "name": "python3"
  },
  "language_info": {
   "codemirror_mode": {
    "name": "ipython",
    "version": 3
   },
   "file_extension": ".py",
   "mimetype": "text/x-python",
   "name": "python",
   "nbconvert_exporter": "python",
   "pygments_lexer": "ipython3",
   "version": "3.13.5"
  }
 },
 "nbformat": 4,
 "nbformat_minor": 5
}
