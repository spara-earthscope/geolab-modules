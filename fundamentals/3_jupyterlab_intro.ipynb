{
 "cells": [
  {
   "cell_type": "markdown",
   "id": "8da960e9-5781-4222-8454-6efe77353247",
   "metadata": {},
   "source": [
    "# Tour of Jupyter Lab and Notebooks (PLACEHOLDER)"
   ]
  }
 ],
 "metadata": {
  "kernelspec": {
   "display_name": "Python 3 (ipykernel)",
   "language": "python",
   "name": "python3"
  },
  "language_info": {
   "codemirror_mode": {
    "name": "ipython",
    "version": 3
   },
   "file_extension": ".py",
   "mimetype": "text/x-python",
   "name": "python",
   "nbconvert_exporter": "python",
   "pygments_lexer": "ipython3",
   "version": "3.13.5"
  }
 },
 "nbformat": 4,
 "nbformat_minor": 5
}
