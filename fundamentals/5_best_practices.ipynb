{
 "cells": [
  {
   "cell_type": "markdown",
   "id": "b42e63d2-9d98-4edd-b4c8-7b0c5a98a5d8",
   "metadata": {},
   "source": [
    "# Cloud Usage Best Practices (PLACE HOLDER)"
   ]
  }
 ],
 "metadata": {
  "kernelspec": {
   "display_name": "Python 3 (ipykernel)",
   "language": "python",
   "name": "python3"
  },
  "language_info": {
   "codemirror_mode": {
    "name": "ipython",
    "version": 3
   },
   "file_extension": ".py",
   "mimetype": "text/x-python",
   "name": "python",
   "nbconvert_exporter": "python",
   "pygments_lexer": "ipython3",
   "version": "3.13.5"
  }
 },
 "nbformat": 4,
 "nbformat_minor": 5
}
