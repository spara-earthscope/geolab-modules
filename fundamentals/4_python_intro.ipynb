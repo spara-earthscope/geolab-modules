{
 "cells": [
  {
   "cell_type": "markdown",
   "id": "8083e7e3-1838-44bf-af4f-09cc81b8fc87",
   "metadata": {},
   "source": [
    "# Getting Started with Python"
   ]
  }
 ],
 "metadata": {
  "kernelspec": {
   "display_name": "Python 3 (ipykernel)",
   "language": "python",
   "name": "python3"
  },
  "language_info": {
   "codemirror_mode": {
    "name": "ipython",
    "version": 3
   },
   "file_extension": ".py",
   "mimetype": "text/x-python",
   "name": "python",
   "nbconvert_exporter": "python",
   "pygments_lexer": "ipython3",
   "version": "3.13.5"
  }
 },
 "nbformat": 4,
 "nbformat_minor": 5
}
