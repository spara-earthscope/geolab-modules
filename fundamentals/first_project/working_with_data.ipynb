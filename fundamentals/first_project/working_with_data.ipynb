{
 "cells": [
  {
   "cell_type": "markdown",
   "id": "2812fc65-8206-4fad-8efd-fdcd0316920d",
   "metadata": {},
   "source": [
    "# Working with Data"
   ]
  },
  {
   "cell_type": "code",
   "execution_count": null,
   "id": "119b7340-7b42-4fd3-b24b-e992ca0f3765",
   "metadata": {},
   "outputs": [],
   "source": []
  },
  {
   "cell_type": "code",
   "execution_count": null,
   "id": "aaf3faa7-038e-412b-b37d-64c7f9374a4c",
   "metadata": {},
   "outputs": [],
   "source": [
    "# example\n",
    "\n",
    "from obspy import read\n",
    "import pandas as pd\n",
    "\n",
    "def read_mseed_to_dataframe(file_path):\n",
    "    stream = read(file_path)  # Miniseed dosyasını oku\n",
    "    data = []\n",
    "    for trace in stream:\n",
    "        times = trace.times('utcdatetime')\n",
    "        values = trace.data\n",
    "        stats = trace.stats\n",
    "        data.extend([{\n",
    "            \"Time\": time, \n",
    "            \"Value\": value, \n",
    "            \"Network\": stats.network, \n",
    "            \"Station\": stats.station, \n",
    "            \"Channel\": stats.channel, \n",
    "            \"Starttime\": stats.starttime\n",
    "        } for time, value in zip(times, values)])\n",
    "    return pd.DataFrame(data)\n"
   ]
  },
  {
   "cell_type": "code",
   "execution_count": null,
   "id": "66395825-aad2-4997-b731-8a08ffa291b7",
   "metadata": {},
   "outputs": [],
   "source": [
    "import pandas as pd\n",
    "    import numpy as np\n",
    "\n",
    "    # Assuming 'st' is an ObsPy Stream object from reading MiniSEED\n",
    "    trace = st[0] # Get the first trace\n",
    "    data = trace.data # Get the numerical data as a NumPy array\n",
    "    times = pd.date_range(start=trace.stats.starttime.datetime,\n",
    "                          periods=len(data),\n",
    "                          freq=f'{1/trace.stats.sampling_rate}S')\n",
    "\n",
    "    # Create a Pandas Series\n",
    "    s = pd.Series(data, index=times)\n",
    "\n",
    "    # Or, create a DataFrame if you have multiple traces or additional metadata\n",
    "    df = pd.DataFrame({'amplitude': data}, index=times)"
   ]
  },
  {
   "cell_type": "code",
   "execution_count": null,
   "id": "92361023-ad9b-481a-a2a9-f84d4c065221",
   "metadata": {},
   "outputs": [],
   "source": [
    "import georinex\n",
    "import pandas as pd\n",
    "\n",
    "# Load the RINEX observation file\n",
    "# Replace 'path/to/your/rinex_file.OBS' with the actual path\n",
    "obs_data = georinex.read_rinex('path/to/your/rinex_file.OBS')\n",
    "\n",
    "# Convert the xarray Dataset to a Pandas DataFrame\n",
    "df = obs_data.to_dataframe()\n",
    "\n",
    "# Now 'df' is a Pandas DataFrame containing your RINEX observation data\n",
    "print(df.head())"
   ]
  },
  {
   "cell_type": "markdown",
   "id": "8747cdcb-ce69-44d2-b79d-e1e6b2ea0807",
   "metadata": {},
   "source": [
    "Resource links:\n",
    "\n",
    "https://github.com/weiji14/foss4g2023oceania\n",
    "\n"
   ]
  },
  {
   "cell_type": "code",
   "execution_count": null,
   "id": "387daab0-fec0-4723-a917-7051dfbfae29",
   "metadata": {},
   "outputs": [],
   "source": []
  },
  {
   "cell_type": "code",
   "execution_count": null,
   "id": "a5c819de-bad3-4d21-befb-ad5ea4b98fd7",
   "metadata": {},
   "outputs": [],
   "source": []
  }
 ],
 "metadata": {
  "kernelspec": {
   "display_name": "Python 3 (ipykernel)",
   "language": "python",
   "name": "python3"
  },
  "language_info": {
   "codemirror_mode": {
    "name": "ipython",
    "version": 3
   },
   "file_extension": ".py",
   "mimetype": "text/x-python",
   "name": "python",
   "nbconvert_exporter": "python",
   "pygments_lexer": "ipython3",
   "version": "3.13.5"
  }
 },
 "nbformat": 4,
 "nbformat_minor": 5
}
