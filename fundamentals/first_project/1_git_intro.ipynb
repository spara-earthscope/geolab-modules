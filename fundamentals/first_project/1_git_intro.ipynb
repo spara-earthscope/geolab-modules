{
 "cells": [
  {
   "cell_type": "markdown",
   "id": "4cba8654-4d80-4661-80af-7b5a6d3749f5",
   "metadata": {},
   "source": [
    "# Starting a Project with Git"
   ]
  }
 ],
 "metadata": {
  "kernelspec": {
   "display_name": "Python 3 (ipykernel)",
   "language": "python",
   "name": "python3"
  },
  "language_info": {
   "codemirror_mode": {
    "name": "ipython",
    "version": 3
   },
   "file_extension": ".py",
   "mimetype": "text/x-python",
   "name": "python",
   "nbconvert_exporter": "python",
   "pygments_lexer": "ipython3",
   "version": "3.13.5"
  }
 },
 "nbformat": 4,
 "nbformat_minor": 5
}
