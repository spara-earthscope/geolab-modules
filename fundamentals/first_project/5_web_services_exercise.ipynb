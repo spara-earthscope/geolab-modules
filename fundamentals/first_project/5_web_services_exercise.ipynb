{
 "cells": [
  {
   "cell_type": "markdown",
   "id": "aa63515a-b00e-46a0-a509-749f04c0ca5b",
   "metadata": {},
   "source": [
    "# Web Services Data Exercise"
   ]
  },
  {
   "cell_type": "markdown",
   "id": "f3cd3e28-a424-46c6-8f09-ba1009490c5e",
   "metadata": {
    "editable": true,
    "slideshow": {
     "slide_type": ""
    },
    "tags": []
   },
   "source": [
    "This exercise is a script for downloading either miniSEED or RINEX data from SAGE and GAGE web services. All the functions are covered in the previous `4_data_access.ipynb` notebook. The download function accomodates either a SAGE web service request or GAGE web service request. Fill in the blanks to complete the script.\n",
    "\n",
    "Download earthquake event data by the query parameters for the SAGE web service. You can use the example in the previous notebook or use another event and station. \n",
    "\n",
    "Download a RINEX file by providing a date, a station, and the type of compression. You can use the example in the previous notebook or use another event and station.\n",
    "\n",
    "If the script is correctly completed you will have a new directory calle `/data` containig a miniSEED and RINEX file.\n",
    "\n",
    "## Instructions\n",
    "This exercise is a script for accessing EarthScope data using web services.\n",
    "\n",
    "Create a notebook and title it web_services_data_exercise.ipynb.\n",
    "Create three code cells and copy the exercise code into the respective code cell.\n",
    "Fill in the blanks as required."
   ]
  },
  {
   "cell_type": "raw",
   "id": "e55fbf74-162c-4bd0-9a17-7cbf21e00772",
   "metadata": {
    "editable": true,
    "raw_mimetype": "",
    "slideshow": {
     "slide_type": ""
    },
    "tags": [
     "hide-cell"
    ]
   },
   "source": [
    "!pip install jupyterlab-myst"
   ]
  },
  {
   "cell_type": "code",
   "execution_count": null,
   "id": "64c5363c-7739-43ad-961d-3d0f101c7f29",
   "metadata": {
    "editable": true,
    "slideshow": {
     "slide_type": ""
    },
    "tags": []
   },
   "outputs": [],
   "source": [
    "# ---------- Fill in the package imports for this script ----------\n",
    "import __BLANK1__  \n",
    "from datetime import datetime\n",
    "from pathlib import Path\n",
    "import __BLANK2__\n",
    "\n",
    "# ---------- Create an EarthScope client to get token ----------\n",
    "client = __BLANK3__\n",
    "\n",
    "\n",
    "# Fill this with the service endpoint for SAGE data\n",
    "SAGE_URL = __BLANK4__\n",
    "# Fill this with the real base path for GAGE data\n",
    "GAGE_URL = __BLANK5__ \n",
    "\n",
    "DATA_DIR = Path(\"./data\")\n",
    "DATA_DIR.mkdir(parents=True, exist_ok=True)\n",
    "\n",
    "# ---------- Get an EarthScope token ----------\n",
    "def get_token():\n",
    "    \"\"\"\n",
    "    Use the SDK to refresh (if needed) and return an access token.\n",
    "    \"\"\"\n",
    "    # Refresh if necessary\n",
    "    __BLANK6__\n",
    "\n",
    "    # Retrieve the token string\n",
    "    token = __BLANK7__\n",
    "    return token\n",
    "\n",
    "\n",
    "# ---------- Helper: common auth header ----------\n",
    "def auth_header(token):\n",
    "    \"\"\"\n",
    "    Helper function to create header with token\n",
    "    \"\"\"\n",
    "    # Use a standard Bearer token header (lowercase 'authorization' is fine)\n",
    "    return __BLANK8__\n",
    "\n",
    "\n",
    "# ---------- Download a file from EarthScope's web services ----------\n",
    "# --------------------------------------------------------------------\n",
    "def download_data(url, data_directory, params={}):  # params is an optional query parameter\n",
    "    \"\"\"\n",
    "    Sends GET with query parameters to the SAGE web service and saves the response \n",
    "    body to a file. Expected params include: net, sta, loc, cha, start (ISO), end (ISO), etc.\n",
    "    Sends GET request to GAGE web service by construcint the URL to the RINEX file.\n",
    "    \"\"\"\n",
    "    # get authorization token\n",
    "    token = get_token()\n",
    "\n",
    "    # create the authorization header \n",
    "    header = auth_header(token) \n",
    "\n",
    "\n",
    "    # This creates a file name for either a miniSEED or RINEX file\n",
    "    # depending upon if the params dictionary is empty. The bool comparator\n",
    "    # returns True if the params dictionary is not empty \n",
    "    if bool(params): \n",
    "        # Parse the start datetime to build filename parts\n",
    "        start_dt = datetime.strptime(params[\"start\"], \"%Y-%m-%dT%H:%M:%S\")\n",
    "        year = str(start_dt.year) # Day-of-year (001-366) for file naming\n",
    "        doy =  \"{:03d}\".format(__BLANK10__)  # hint: see how year is extracted from the start\n",
    "        \n",
    "        # create a file name for a miniSEED\n",
    "        file_name = \".\".join([\n",
    "            params[\"sta\"],\n",
    "            params[\"net\"],\n",
    "            params[\"loc\"],\n",
    "            params[\"cha\"],\n",
    "            year,\n",
    "            doy,\n",
    "            \"mseed\"\n",
    "        ])\n",
    "    else: # create a file name for a RINEX file if the params dictionary is empty\n",
    "        file_name = Path(url).name\n",
    "\n",
    "    # create a variable with the path to the data directory and file\n",
    "    out_path = Path(Path(data_directory) / __BLANK11__)\n",
    "\n",
    "    # Make the request to the web service with params and bearer auth\n",
    "    r = requests.__BLANK12__(\n",
    "        url,\n",
    "        params=__BLANK13__,\n",
    "        headers=__BLANK14__,\n",
    "        stream=True\n",
    "    ) \n",
    "\n",
    "    if r.status_code == requests.codes.__BLANK15__:\n",
    "        with open(out_path, \"wb\") as f:\n",
    "            for data in r:\n",
    "                f.write(data)\n",
    "    else:\n",
    "        #problem occured\n",
    "        print(f\"failure: {r.status_code}, {r.reason}\")\n",
    "        return None\n",
    "\n",
    "\n",
    "# ---------- Creates URL to download data from the EarthScope GAGE web service ----------\n",
    "# ---------------------------------------------------------------------------------------\n",
    "def create_url(year, day, station, compression):\n",
    "    \"\"\"\n",
    "    Construct a URL to a file in an archive given year, day-of-year, station, etc.\n",
    "    Example output:\n",
    "      {BASE_URL}{year}/{DOY}/{/STATIONDOY0.YY}{compression}\n",
    "    \"\"\"\n",
    "    doy =  \"{:03d}\".__BLANK16__(day)\n",
    "    two_digit_year = __BLANK17__  # Hint: use the string slice function in the previous notebook\n",
    "\n",
    "    file_path = \"/\".join([str(year), doy])\n",
    "    file_name = \"\".join([\"/\", station, doy, \"0.\", two_digit_year, compression])\n",
    "    url = \"\".join([GAGE_URL, file_path, file_name])\n",
    "    return url\n"
   ]
  },
  {
   "cell_type": "code",
   "execution_count": null,
   "id": "e03de38b-f8b2-4f94-8f39-9a59ad45ad41",
   "metadata": {},
   "outputs": [],
   "source": [
    "# Download a miniSEED file for an event\n",
    "# \n",
    "params = {\"net\" : 'IU',\n",
    "          \"sta\" : 'ANMO',\n",
    "          \"loc\" : '00',\n",
    "          \"cha\" : 'BHZ',\n",
    "          \"start\": '2010-02-27T06:30:00',\n",
    "          \"end\": '2010-02-27T10:30:00'}\n",
    "\n",
    "# Try the parameterized request\n",
    "download_data(__BLANK18__, DATA_DIR, __BLANK19_)"
   ]
  },
  {
   "cell_type": "code",
   "execution_count": null,
   "id": "a83e564f-03c3-4385-b933-2a0881245390",
   "metadata": {},
   "outputs": [],
   "source": [
    "# Download a RINEX file\n",
    "#\n",
    "year = 2025\n",
    "day = 1\n",
    "station = 'p034'\n",
    "doy = '%03d'.format(day)\n",
    "compression = 'd.Z'  # or \".Z\" / \"\" depending on the archive\n",
    "url = create_url(year, __BLANK20__, station, compression)\n",
    "download_data(url, __BLANK21__)"
   ]
  },
  {
   "cell_type": "markdown",
   "id": "156fec74-4b28-4894-9bb1-f7e62860c226",
   "metadata": {
    "editable": true,
    "slideshow": {
     "slide_type": ""
    },
    "tags": [
     "hide-input"
    ]
   },
   "source": [
    "```{admonition} Click to see answers\n",
    ":class: dropdown\n",
    "__BLANK1__ → import requests\n",
    "\n",
    "__BLANK2__ → from earthscope_sdk import EarthScopeClient\n",
    "\n",
    "__BLANK3__ → client = EarthScopeClient()\n",
    "\n",
    "__BLANK4__ → a valid string endpoint for the parameterized API, e.g. \"https://example.earthscope.org/api/waveforms\"\n",
    "\n",
    "__BLANK5__ → a valid base URL for direct files, e.g. \"https://example.earthscope.org/gage/archive/\"\n",
    "\n",
    "__BLANK6__ → client.ctx.auth_flow.refresh_if_necessary()\n",
    "\n",
    "__BLANK7__ → client.ctx.auth_flow.access_token\n",
    "\n",
    "__BLANK8__ → {\"authorization\": f\"Bearer {token}\"}\n",
    "\n",
    "__BLANK9__ → requests\n",
    "\n",
    "__BLANK10__ → \"{:03d}\".format(day)\n",
    "\n",
    "__BLANK11__ → file_name\n",
    "\n",
    "__BLANK12__ → requests.get(\n",
    "\n",
    "__BLANK13__ → params\n",
    "\n",
    "__BLANK14__ → header\n",
    "\n",
    "__BLANK15__ → requests.codes.ok\n",
    "\n",
    "__BLANK16__ → \"{:03d}\".format(day)\n",
    "\n",
    "__BLANK17__ → str(year)[2:]\n",
    "\n",
    "__BLANK18__ → url\n",
    "\n",
    "__BLANK19__ → params\n",
    "\n",
    "__BLANK20__ → day\n",
    "\n",
    "__BLANK21__ → DATA_DIR\n",
    "```"
   ]
  }
 ],
 "metadata": {
  "kernelspec": {
   "display_name": "Python 3 (ipykernel)",
   "language": "python",
   "name": "python3"
  },
  "language_info": {
   "codemirror_mode": {
    "name": "ipython",
    "version": 3
   },
   "file_extension": ".py",
   "mimetype": "text/x-python",
   "name": "python",
   "nbconvert_exporter": "python",
   "pygments_lexer": "ipython3",
   "version": "3.13.5"
  }
 },
 "nbformat": 4,
 "nbformat_minor": 5
}
