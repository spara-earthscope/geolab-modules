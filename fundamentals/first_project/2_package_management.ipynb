{
 "cells": [
  {
   "cell_type": "markdown",
   "id": "cdd066ae-5a44-4d93-b385-f6994f88672a",
   "metadata": {},
   "source": [
    "# Python Environments and Package Management"
   ]
  }
 ],
 "metadata": {
  "kernelspec": {
   "display_name": "Python 3 (ipykernel)",
   "language": "python",
   "name": "python3"
  },
  "language_info": {
   "codemirror_mode": {
    "name": "ipython",
    "version": 3
   },
   "file_extension": ".py",
   "mimetype": "text/x-python",
   "name": "python",
   "nbconvert_exporter": "python",
   "pygments_lexer": "ipython3",
   "version": "3.13.5"
  }
 },
 "nbformat": 4,
 "nbformat_minor": 5
}
