{
 "cells": [
  {
   "cell_type": "markdown",
   "id": "a2e2e354-9dcf-4af5-84d8-51142b01f1b2",
   "metadata": {
    "editable": true,
    "slideshow": {
     "slide_type": ""
    },
    "tags": []
   },
   "source": [
    "# Project Overview\n",
    "\n",
    "This project demonstrates a typical project workflow in GeoLab. The objective is to instruct how to download data from EarthScope web services, and how to access data in the cloud. The difference between the two methods is that web services are file download services. In contrast, cloud services stream data directly to memory, which is more efficient and enables processing more data.\n",
    "\n",
    "This exercise convers:\n",
    "\n",
    "- how to initialize a project using git\n",
    "- how to create a Python environment and manage packages\n",
    "- explains how to get an EarthScope token to access data\n",
    "- how to download seisimic and geodetic data using EarthScope web services\n",
    "- how access seismic and geodetic data in the cloud\n",
    "  \n",
    "A section can include quizzes, working in the terminal, or a coding exercise.\n",
    "\n",
    "![](images/project_work_flow.png)"
   ]
  },
  {
   "cell_type": "markdown",
   "id": "9419ea31-fa4c-42a2-945b-bf7c76e4ac5e",
   "metadata": {
    "editable": true,
    "slideshow": {
     "slide_type": ""
    },
    "tags": []
   },
   "source": [
    "## Using Git\n",
    "\n",
    "Git is used to store and track code changes. We strongly recommend that you start a project by creating a git repository. First, by creating a git repository, you can rollback any changes made in your code. For example, adding a new feature. If it fails to work, you can revert your changes to the point where the code was working. Git also enables the creation of branches, which let you add new features without disrupting working code. If you create a GitHub account, you can keep a copy of the repository online and share it with others. There are many benefits to using git to manage project code.\n",
    "\n",
    "The notebook covers the basics of creating a git repository and managing code."
   ]
  },
  {
   "cell_type": "markdown",
   "id": "c55c22e9-4a49-4ae1-88ec-31230707f077",
   "metadata": {},
   "source": [
    "## Python Environments and Package Management\n",
    "\n",
    "Creating a Python environment for a project is a best practice. Environments determine the version of Python used and the software packages available for a project. GeoLab's default environment contains many packages useful for scientific computing. However, you may want to add a package, and this module explains how to add packages and the basics of managing a Python environment."
   ]
  },
  {
   "cell_type": "markdown",
   "id": "6b9938ff-61f7-401e-8141-576fcf2aa8ed",
   "metadata": {},
   "source": [
    "## Getting a Token to Access EarthScope Services\n",
    "\n",
    "To download or access EarthScope SAGE and GAGE data, you will need an EarthScope account. Tracking data usage is a requirement of EarthScope's funders. Usage is tracked by a issuing an 0Auth token. You can request a token using EarthScope's CLI (Command Line Interface) or programatically with EarthScope's SDK (Software Development Kit). This section demonstrates both methods for requesting a token.\n",
    "\n",
    "In the future, EarthScope will provide direct access to SAGE and GAGE data in AWS S3 buckets. Direct data access is briefly discussed and will be expanded when the service becomes available."
   ]
  },
  {
   "cell_type": "markdown",
   "id": "4e06dfd5-dcfe-40c8-b44b-c47eb64b2807",
   "metadata": {},
   "source": [
    "## Getting Data from Web Services\n",
    "\n",
    "This task demonstrates how to download files from SAGE and GAGE web services using Python. How to formulate a request with the correct parameters and authorization is shown. In addition, this section demonstrates how to access data from an AWS S3 bucket that does not require authorization."
   ]
  },
  {
   "cell_type": "markdown",
   "id": "0005904c-fb0e-40c4-a9bf-6ccd1c4dfae8",
   "metadata": {},
   "source": [
    "## Web Services Data Exercise\n",
    "\n",
    "Using the skills from the previous notebook. You will complete a Python script that will download data from EarthScope web services."
   ]
  },
  {
   "cell_type": "markdown",
   "id": "5323a0bf-2c02-4fd9-96dd-0e7a644ad03f",
   "metadata": {},
   "source": [
    "## Getting Cloud Native Data\n",
    "\n",
    "This notebook demonstrates how to get cloud native seismic and geodetice data using the `boto3` Python and the EarthScope SDK. This section demonstrates how to access data from an AWS S3 bucket without authorization, and how the EarthScope SDK manages authorization."
   ]
  },
  {
   "cell_type": "markdown",
   "id": "2ec1231c-9e23-48b9-82ce-f100c8370f99",
   "metadata": {},
   "source": [
    "## Cloud Native Data Excercise\n",
    "\n",
    "Using the skills from the previous notebook. You will complete a Python script that pull seismic and geodetic data from the cloud."
   ]
  }
 ],
 "metadata": {
  "kernelspec": {
   "display_name": "Python 3 (ipykernel)",
   "language": "python",
   "name": "python3"
  },
  "language_info": {
   "codemirror_mode": {
    "name": "ipython",
    "version": 3
   },
   "file_extension": ".py",
   "mimetype": "text/x-python",
   "name": "python",
   "nbconvert_exporter": "python",
   "pygments_lexer": "ipython3",
   "version": "3.13.5"
  }
 },
 "nbformat": 4,
 "nbformat_minor": 5
}
