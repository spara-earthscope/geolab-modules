{
 "cells": [
  {
   "cell_type": "markdown",
   "id": "a2e2e354-9dcf-4af5-84d8-51142b01f1b2",
   "metadata": {
    "editable": true,
    "slideshow": {
     "slide_type": ""
    },
    "tags": []
   },
   "source": [
    "# Project Overview\n",
    "\n",
    "This project steps through each task necessary to successfully complete and share a project. There are four tasks for starting a new project in GeoLab. The diagram below shows the tasks, the order to accomplish them, and the corresponding notebook that explains in each task.\n",
    "\n",
    "![](images/project_work_flow.png)"
   ]
  },
  {
   "cell_type": "markdown",
   "id": "9419ea31-fa4c-42a2-945b-bf7c76e4ac5e",
   "metadata": {
    "editable": true,
    "slideshow": {
     "slide_type": ""
    },
    "tags": []
   },
   "source": [
    "## Using Git\n",
    "\n",
    "Git is used to store and track code changes. We strongly recommend that you start a project by creating a git repository. First, by creating a git repository, you can rollback any changes made in your code. For example, adding a new feature. If it fails to work, you can revert your changes to the point where the code was working. Git also enables the creation of branches, which let you add new features without disrupting working code. If you create a GitHub account, you can keep a copy of the repository online and share it with others. There are many benefits to using git to manage project code.\n",
    "\n",
    "The notebook covers the basics of creating a git repository and managing code."
   ]
  },
  {
   "cell_type": "markdown",
   "id": "c55c22e9-4a49-4ae1-88ec-31230707f077",
   "metadata": {},
   "source": [
    "## Python Environments and Package Management\n",
    "\n",
    "Creating a Python environment for a project is a best practice. Environments determine the version of Python used and the software packages available for a project. GeoLab's default environment contains many packages useful for scientific computing. However, you may want to add a package, and this module explains how to add packages and the basics of managing a Python environment."
   ]
  },
  {
   "cell_type": "markdown",
   "id": "6b9938ff-61f7-401e-8141-576fcf2aa8ed",
   "metadata": {},
   "source": [
    "## Using EarthScope Data Services\n",
    "\n",
    "To download or access EarthScope SAGE and GAGE data, you will need an EarthScope account. Tracking data usage is a requirement of EarthScope's funders. Usage is tracked by a issuing an 0Auth token. You can request a token using EarthScope's CLI (Command Line Interface) or programatically with EarthScope's SDK (Software Development Kit). This section demonstrates both methods for requesting a token.\n",
    "\n",
    "In the future, EarthScope will provide direct access to SAGE and GAGE data in AWS S3 buckets. Direct data access is briefly discussed and will be expanded when the service becomes available."
   ]
  },
  {
   "cell_type": "markdown",
   "id": "4e06dfd5-dcfe-40c8-b44b-c47eb64b2807",
   "metadata": {},
   "source": [
    "## Accessing Data from EarthScope Web Services\n",
    "\n",
    "This task demonstrates how to download files from SAGE and GAGE  archives through web services using Python. How to formulate a request with the correct parameters and authorization is shown. In addition, this section demonstrates how to access data from an AWS S3 bucket that does not require authorization."
   ]
  },
  {
   "cell_type": "markdown",
   "id": "0005904c-fb0e-40c4-a9bf-6ccd1c4dfae8",
   "metadata": {},
   "source": [
    "## Putting It All Together\n",
    "\n",
    "Using the skills from the four previous tasks. You will complete a Python script that will download data and perform basic analysis."
   ]
  }
 ],
 "metadata": {
  "kernelspec": {
   "display_name": "Python 3 (ipykernel)",
   "language": "python",
   "name": "python3"
  },
  "language_info": {
   "codemirror_mode": {
    "name": "ipython",
    "version": 3
   },
   "file_extension": ".py",
   "mimetype": "text/x-python",
   "name": "python",
   "nbconvert_exporter": "python",
   "pygments_lexer": "ipython3",
   "version": "3.13.5"
  }
 },
 "nbformat": 4,
 "nbformat_minor": 5
}
