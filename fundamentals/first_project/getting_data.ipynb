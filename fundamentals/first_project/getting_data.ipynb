{
 "cells": [
  {
   "cell_type": "markdown",
   "id": "348b47bf-bf26-4654-9dc0-687a53ad86b7",
   "metadata": {},
   "source": [
    "# Getting EarthScope Data\n",
    "\n",
    "## Authentication\n",
    "\n",
    "### EarthScope CLI\n",
    "\n",
    "### EarthScope SDK\n",
    "\n"
   ]
  }
 ],
 "metadata": {
  "kernelspec": {
   "display_name": "Python 3 (ipykernel)",
   "language": "python",
   "name": "python3"
  },
  "language_info": {
   "codemirror_mode": {
    "name": "ipython",
    "version": 3
   },
   "file_extension": ".py",
   "mimetype": "text/x-python",
   "name": "python",
   "nbconvert_exporter": "python",
   "pygments_lexer": "ipython3",
   "version": "3.13.5"
  }
 },
 "nbformat": 4,
 "nbformat_minor": 5
}
