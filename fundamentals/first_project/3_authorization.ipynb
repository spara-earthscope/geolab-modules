{
 "cells": [
  {
   "cell_type": "markdown",
   "id": "1f27d4de-8de8-4365-8bd9-ee127421f36c",
   "metadata": {},
   "source": [
    "# Using EarthScope Data Services"
   ]
  },
  {
   "cell_type": "markdown",
   "id": "2f74efac-4dfd-4e00-8362-2a748d5a4740",
   "metadata": {},
   "source": [
    "\n",
    "EarthScope currently offers data through web services and in the near future through direct acess to seismic and geodetic data in the cloud. In this module, we'll learn how to to request an authorization token for downloading or accessing data from EarthScope.\n",
    "\n",
    "## Getting an EarthScope Token\n",
    "\n",
    "EarthScope is required by its funders to track data usage. To this end, EarthScope issues a token to access resources. Tokens are tied to your EarthScope account (which you used to log into GeoLab). Tokens are generated using either the EarthScope SDK (Software Development Kit) or CLI (Command Line Interface). Both packages are installed in GeoLab. The simplest way to generated a token is to use the EarthScope CLI. Copy and paste the command below into a termincal, then follow the instructions to get a token.\n",
    "\n",
    "```bash\n",
    "es login\n",
    "```\n",
    "\n",
    "Tokens are stored in your HOME directory under `.earthscope/default/tokens.json`. Check to see if a token is present in your home directory.\n",
    "\n",
    "```bash\n",
    "cat $HOME/.earthscope/default/tokens.json\n",
    "```\n",
    "\n",
    "Creating an environment variable for the token makes it easier to use, e.g.:\n",
    "\n",
    "```bash\n",
    "export EARTHSCOPE_TOKEN=\"$HOME/.earthscope/default/tokens.json\"\n",
    "cat $EARTHSCOPE_TOKEN\n",
    "```"
   ]
  },
  {
   "cell_type": "markdown",
   "id": "04626615-c678-472e-8708-eb2b6ce51805",
   "metadata": {},
   "source": [
    "Alternatively, you can get a token programmatically with Python."
   ]
  },
  {
   "cell_type": "code",
   "execution_count": null,
   "id": "640f69ba-0199-44ef-b5e1-abe75f88efc4",
   "metadata": {},
   "outputs": [],
   "source": [
    "from earthscope_sdk import EarthScopeClient\n",
    "\n",
    "client = EarthScopeClient()\n",
    "\n",
    "def get_token(token_path='./'):\n",
    "\n",
    "    # refresh the token if it has expired\n",
    "    client.ctx.auth_flow.refresh_if_necessary()\n",
    "\n",
    "    token = client.ctx.auth_flow.access_token\n",
    "    \n",
    "    return token\n",
    "\n",
    "print(get_token())"
   ]
  },
  {
   "cell_type": "markdown",
   "id": "8468d7f4-3dd4-4e90-8fe8-94ba5e703dc2",
   "metadata": {},
   "source": [
    "Once you have a token, it can be used to download miniSEED or GNSS data by including it in the the web service request. The following module demonstrates how to request and save data in GeoLab.\n",
    "\n",
    "More information about authorization at EarthScope is [available](https://www.earthscope.org/data/authentication/)."
   ]
  },
  {
   "cell_type": "markdown",
   "id": "e5769eeb-66c8-484a-8256-73b75108b429",
   "metadata": {},
   "source": [
    "## Direct Data Access from EarthScope's AWS S3 Buckets\n",
    "\n",
    "Object storage in the cloud is a cost effective way to hold and distribute large collections of data. Objects consist of the data, metadata, and a unique identifier. They are accessed through an application programming interface or API. EarthScope uses Amazon Web Services' (AWS) Simple Storage Service or S3 to store and distribute seismic and geodetic data.\n",
    "\n",
    "In the near future, EarthScope will enable direct data access from AWS S3 for both SAGE and GAGE data. This process requires an authorization token which is used to provide temporary AWS credentials. With these credentials, you can read S3 objects and write them directly to memory, eliminating the need to download and write the data to file. Retrieving "
   ]
  },
  {
   "cell_type": "markdown",
   "id": "ffc6bc1e-8ddb-4c4c-8269-ed702f6e17f0",
   "metadata": {},
   "source": [
    "## Direct Data Access from the AWS Open Data Program \n",
    "\n",
    "In near future, EarthScope data will be available through the [AWS Open Data Program](https://aws.amazon.com/opendata/). Data access through the AWS OPen Data Program does not require authorization. For SAGE data, you can use [`boto3`](), a Python package for working with AWS services, including S3. \n"
   ]
  },
  {
   "cell_type": "code",
   "execution_count": null,
   "id": "94006f7b-0726-4efb-a2d4-0acfc884c92a",
   "metadata": {},
   "outputs": [],
   "source": []
  }
 ],
 "metadata": {
  "kernelspec": {
   "display_name": "Python 3 (ipykernel)",
   "language": "python",
   "name": "python3"
  },
  "language_info": {
   "codemirror_mode": {
    "name": "ipython",
    "version": 3
   },
   "file_extension": ".py",
   "mimetype": "text/x-python",
   "name": "python",
   "nbconvert_exporter": "python",
   "pygments_lexer": "ipython3",
   "version": "3.13.5"
  }
 },
 "nbformat": 4,
 "nbformat_minor": 5
}
