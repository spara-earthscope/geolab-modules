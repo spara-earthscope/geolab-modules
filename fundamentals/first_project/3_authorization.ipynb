{
 "cells": [
  {
   "cell_type": "markdown",
   "id": "1f27d4de-8de8-4365-8bd9-ee127421f36c",
   "metadata": {},
   "source": [
    "# Using EarthScope Data Services"
   ]
  }
 ],
 "metadata": {
  "kernelspec": {
   "display_name": "Python 3 (ipykernel)",
   "language": "python",
   "name": "python3"
  },
  "language_info": {
   "codemirror_mode": {
    "name": "ipython",
    "version": 3
   },
   "file_extension": ".py",
   "mimetype": "text/x-python",
   "name": "python",
   "nbconvert_exporter": "python",
   "pygments_lexer": "ipython3",
   "version": "3.13.5"
  }
 },
 "nbformat": 4,
 "nbformat_minor": 5
}
